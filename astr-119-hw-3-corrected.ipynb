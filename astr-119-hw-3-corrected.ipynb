{
 "cells": [
  {
   "cell_type": "code",
   "execution_count": null,
   "metadata": {},
   "outputs": [],
   "source": [
    "%matplotlib inline\n",
    "import numpy as np\n",
    "import matplotlib.pyplot as plt"
   ]
  },
  {
   "cell_type": "code",
   "execution_count": null,
   "metadata": {},
   "outputs": [],
   "source": [
    "def function_for_roots(x):\n",
    "    a = 1.01\n",
    "    b = -3.04\n",
    "    c = 2.07\n",
    "    return a*x**2 + b*x + c   #returns the function 1.01x^2 - 3.04x + 2.07"
   ]
  },
  {
   "cell_type": "code",
   "execution_count": null,
   "metadata": {},
   "outputs": [],
   "source": [
    "def bisect(f,x_left,x_right,tol = 10e-6):\n",
    "    if abs(f(x_left))<=tol and abs(f(x_right))<=tol:\n",
    "        print(str(x_left)+ \" and \" + str(x_right) + \" is a zero.\")\n",
    "        return [x_left, x_right]\n",
    "    \n",
    "    if abs(f(x_left))<=tol:\n",
    "        print(str(x_left)+\" is a zero.\")\n",
    "        return x_left\n",
    "    \n",
    "    if abs(f(x_right))<=tol:\n",
    "        print(str(x_right)+\" is a zero.\")\n",
    "        return x_right\n",
    " \n",
    "    if(f(x_left)*f(x_right)>=0.0):\n",
    "        print(\"same signs\")\n",
    "        return None\n",
    "    \n",
    "    i_max = 10e5\n",
    "    i = 0\n",
    "    \n",
    "    while True:\n",
    "        if i > i_max:\n",
    "            print(\"Max iteration\")\n",
    "            break\n",
    "    \n",
    "        x_mid = (x_left + x_right) / 2.\n",
    "        \n",
    "        if abs(f(x_mid))<=tol:\n",
    "            print(str(x_mid)+\" is a zero.\")\n",
    "            return x_mid\n",
    "        \n",
    "        case =0\n",
    "        \n",
    "        if(f(x_left)*f(x_mid)>=0.0):\n",
    "            case = 2\n",
    "           # x_right = x_mid\n",
    "            \n",
    "        if(f(x_right)*f(x_mid)>=0.0):\n",
    "            case = 1\n",
    "            #x_left = x_mid\n",
    "            \n",
    "        if case == 1:\n",
    "            x_right = x_mid\n",
    "        if case == 2:\n",
    "            x_left = x_mid\n",
    "            \n",
    "        i += 1\n",
    "        print(i,x_left,x_right,x_mid,f(x_mid))"
   ]
  },
  {
   "cell_type": "code",
   "execution_count": null,
   "metadata": {},
   "outputs": [],
   "source": [
    "#Roots\n",
    "x1 = bisect(function_for_roots, 1.5, 2, 1e-6)    #Root 1\n",
    "print('x1=',x1)\n",
    "x2 = bisect(function_for_roots, 0, 1.5, 1e-6)   #Root 2 \n",
    "print('x2=',x2)\n",
    "y = 0.000001\n",
    "min_fr = np.min(function_for_roots(x1))\n",
    "max_fr = np.max(function_for_roots(x2))                               \n",
    "print(min_fr)\n",
    "print(max_fr)\n",
    "\n",
    "print(\"Root 1 took 15 iterations.\")\n",
    "print(\"Root 2 took 17 iterations.\")"
   ]
  },
  {
   "cell_type": "code",
   "execution_count": null,
   "metadata": {},
   "outputs": [],
   "source": [
    "f = plt.figure(figsize=(10,10))\n",
    "n = 1000\n",
    "\n",
    "x=np.linspace(0,3,1000)\n",
    "\n",
    "#plots max and min\n",
    "plt.plot(1.5,min_fr,marker='o',color = 'r',label = 'Min')\n",
    "plt.plot(0,max_fr,marker='o',color = 'y',label = 'Max')\n",
    "plt.plot(3.0,max_fr,marker='o',color = 'y')\n",
    "\n",
    "\n",
    "#plots the roots of function\n",
    "plt.plot(x1,y,marker='o',color = 'b',label = 'Root')\n",
    "plt.plot(x2,y,marker='o',color = 'b')\n",
    "\n",
    "\n",
    "plt.plot(x,function_for_roots(x),label='Function')\n",
    "\n",
    "\n",
    "plt.xlabel('x')\n",
    "plt.ylabel('f(x)')\n",
    "plt.axhline(y=0, color='g', linestyle='-')\n",
    "plt.xlim(0,3)\n",
    "plt.ylim(-0.5,2.1)\n",
    "plt.legend(loc=3)\n",
    "plt.grid()\n",
    "plt.show()"
   ]
  },
  {
   "cell_type": "code",
   "execution_count": null,
   "metadata": {},
   "outputs": [],
   "source": []
  }
 ],
 "metadata": {
  "kernelspec": {
   "display_name": "Python 3",
   "language": "python",
   "name": "python3"
  },
  "language_info": {
   "codemirror_mode": {
    "name": "ipython",
    "version": 3
   },
   "file_extension": ".py",
   "mimetype": "text/x-python",
   "name": "python",
   "nbconvert_exporter": "python",
   "pygments_lexer": "ipython3",
   "version": "3.7.0"
  }
 },
 "nbformat": 4,
 "nbformat_minor": 2
}
